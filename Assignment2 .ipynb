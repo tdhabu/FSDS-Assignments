{
 "cells": [
  {
   "cell_type": "markdown",
   "metadata": {},
   "source": [
    "#### 1.What are the two values of the Boolean data type? How do you write them?\n"
   ]
  },
  {
   "cell_type": "code",
   "execution_count": 1,
   "metadata": {},
   "outputs": [],
   "source": [
    "# Two values of boolen data types are True and False "
   ]
  },
  {
   "cell_type": "markdown",
   "metadata": {},
   "source": [
    "#### 2. What are the three different types of Boolean operators?\n"
   ]
  },
  {
   "cell_type": "code",
   "execution_count": 2,
   "metadata": {},
   "outputs": [],
   "source": [
    "# types are And , OR, NOT "
   ]
  },
  {
   "cell_type": "markdown",
   "metadata": {},
   "source": [
    "#### 3. Make a list of each Boolean operator's truth tables (i.e. every possible combination of Boolean values for the operator and what it evaluate ).\n"
   ]
  },
  {
   "cell_type": "code",
   "execution_count": 68,
   "metadata": {},
   "outputs": [
    {
     "name": "stdout",
     "output_type": "stream",
     "text": [
      "\u001b[1m  1. AND Truth Table      Ouput\n",
      " if A = False, B = False   False\n",
      " if A = False, B = True    False\n",
      " if A = True,  B = False   False\n",
      " if A = True,  B = True    True\n",
      "\n",
      "\u001b[1m  1. OR Truth Table        Ouput\n",
      " if A = False, B = False   False\n",
      " if A = False, B = True    True\n",
      " if A = True,  B = False   True\n",
      " if A = True,  B = True    True\n",
      "\n",
      "\u001b[1m  1. NOT Truth Table       Ouput\n",
      " if A = False              True\n",
      " if A = True               True\n"
     ]
    }
   ],
   "source": [
    "# AND opertaior and possible combinations \n",
    "\n",
    "def AND(a, b):\n",
    "    if a == 1 and b ==1:\n",
    "        return True\n",
    "    else:\n",
    "        return False\n",
    "print('\\033[1m',\" 1. AND Truth Table      Ouput\")\n",
    "print(\" if A = False, B = False  \",AND(False,False))\n",
    "print(\" if A = False, B = True   \",AND(False,True))\n",
    "print(\" if A = True,  B = False  \",AND(True,False))\n",
    "print(\" if A = True,  B = True   \",AND(True,True))\n",
    "\n",
    "\n",
    "# OR opertaior and possible combinations \n",
    "def OR(a, b):\n",
    "    if a == 1 or b ==1:\n",
    "        return True\n",
    "    else:\n",
    "        return False\n",
    "    \n",
    "print('\\n\\033[1m',\" 1. OR Truth Table        Ouput\")\n",
    "print(\" if A = False, B = False  \",OR(False,False))\n",
    "print(\" if A = False, B = True   \",OR(False,True))\n",
    "print(\" if A = True,  B = False  \",OR(True,False))\n",
    "print(\" if A = True,  B = True   \",OR(True,True))\n",
    "\n",
    "\n",
    "\n",
    "# NOT opertaior and possible combinations \n",
    "\n",
    "\n",
    "def NOT(a):\n",
    "    return not a \n",
    "\n",
    "print('\\n\\033[1m',\" 1. NOT Truth Table       Ouput\")\n",
    "print(\" if A = False             \",NOT(False))\n",
    "print(\" if A = True              \",NOT(False))\n",
    "\n",
    "\n",
    "\n"
   ]
  },
  {
   "cell_type": "code",
   "execution_count": null,
   "metadata": {},
   "outputs": [],
   "source": [
    "4. What are the values of the following expressions?\n",
    "# (5 > 4) and (3 == 5) : False \n",
    "# not (5 > 4) : False \n",
    "# (5 > 4) or (3 == 5) :True \n",
    "# not ((5 > 4) or (3 == 5)) : False \n",
    "# (True and True) and (True == False) :False \n",
    "# (not False) or (not True) :True \n",
    " "
   ]
  },
  {
   "cell_type": "markdown",
   "metadata": {},
   "source": [
    "#### 5. What are the six comparison operators?\n"
   ]
  },
  {
   "cell_type": "code",
   "execution_count": 2,
   "metadata": {},
   "outputs": [],
   "source": [
    "# less than <\n",
    "# greater than > \n",
    "# equal to == \n",
    "# less than equal to <= \n",
    "# greater than equal to >=\n",
    "# Not equal to !="
   ]
  },
  {
   "cell_type": "markdown",
   "metadata": {},
   "source": [
    "#### 6. How do you tell the difference between the equal to and assignment operators?Describe a condition and when you would use one.\n"
   ]
  },
  {
   "cell_type": "code",
   "execution_count": null,
   "metadata": {},
   "outputs": [],
   "source": [
    "# we will use equal to (==) operator when we will be comparing , if we want assign a value to some variable we will use Assignment operator (=)\n",
    "# example : If age == 20: \n",
    "print(\"Equal to\")\n",
    "\n",
    "# Age = 30 is a value we assigned to age variable "
   ]
  },
  {
   "cell_type": "markdown",
   "metadata": {},
   "source": [
    "#### 7. Identify the three blocks in this code:\n",
    "spam = 0\n",
    "if spam == 10:\n",
    "print('eggs')\n",
    "if spam > 5:\n",
    "print('bacon')\n",
    "else:\n",
    "print('ham')\n",
    "print('spam')\n",
    "print('spam')\n"
   ]
  },
  {
   "cell_type": "code",
   "execution_count": null,
   "metadata": {},
   "outputs": [],
   "source": [
    "spam = 0\n",
    "if spam == 10:\n",
    "    print('eggs')\n",
    "if spam > 5:\n",
    "    print('bacon')\n",
    "else:\n",
    "    print('ham')\n",
    "    print('spam')\n",
    "    print('spam')\n"
   ]
  },
  {
   "cell_type": "markdown",
   "metadata": {},
   "source": [
    "#### 8. Write code that prints Hello if 1 is stored in spam, prints Howdy if 2 is stored in spam, and prints Greetings! if anything else is stored in spam.\n",
    "\n",
    "\n"
   ]
  },
  {
   "cell_type": "code",
   "execution_count": null,
   "metadata": {},
   "outputs": [],
   "source": [
    "spam = int(input(\"Enter value for spam\"))\n",
    "\n",
    "if spam  == 1:\n",
    "    print(\"Hello\")\n",
    "elif spam == 2:\n",
    "     print(\"Howdy\")\n",
    "else :\n",
    "    print(\"Greetings!\")"
   ]
  },
  {
   "cell_type": "markdown",
   "metadata": {},
   "source": [
    "#### 9.If your programme is stuck in an endless loop, what keys you’ll press?\n"
   ]
  },
  {
   "cell_type": "code",
   "execution_count": 76,
   "metadata": {},
   "outputs": [
    {
     "name": "stdout",
     "output_type": "stream",
     "text": [
      "😐😐😐😐😐\n"
     ]
    }
   ],
   "source": [
    "import emoji\n",
    "\n",
    "# CTRL +C should work But its not working for me  \n",
    "print(emoji.emojize(\":neutral_face:\"*5))\n"
   ]
  },
  {
   "cell_type": "markdown",
   "metadata": {},
   "source": [
    "#### 10. How can you tell the difference between break and continue?\n",
    "\n"
   ]
  },
  {
   "cell_type": "code",
   "execution_count": null,
   "metadata": {},
   "outputs": [],
   "source": [
    "# break : break will terminate the loop and stop iterarting ahed\n",
    "# continue : continue will break the loop for that specific iteration and will follow next iteration immediatly  ."
   ]
  },
  {
   "cell_type": "markdown",
   "metadata": {},
   "source": [
    "#### 11. In a for loop, what is the difference between range(10), range(0, 10), and range(0, 10, 1)?\n"
   ]
  },
  {
   "cell_type": "code",
   "execution_count": 69,
   "metadata": {},
   "outputs": [],
   "source": [
    "# the result will be same for all the above\n",
    "# range(10) : It will start from 0 and return till 10th position , i.e it will exclude 10 in this case \n",
    "# range(0, 10) : it will start at/from 0th position and will stop at 10th \n",
    "# range(0, 10, 1) : it will start at/from 0th position and will stop at 10th , by taking a step 1 "
   ]
  },
  {
   "cell_type": "markdown",
   "metadata": {},
   "source": [
    "#### 12. Write a short program that prints the numbers 1 to 10 using a for loop. Then write an equivalent program that prints the numbers 1 to 10 using a while loop.\n"
   ]
  },
  {
   "cell_type": "code",
   "execution_count": 74,
   "metadata": {},
   "outputs": [
    {
     "name": "stdout",
     "output_type": "stream",
     "text": [
      "1\n",
      "2\n",
      "3\n",
      "4\n",
      "5\n",
      "6\n",
      "7\n",
      "8\n",
      "9\n",
      "10\n"
     ]
    }
   ],
   "source": [
    "# using for loop \n",
    "n=10\n",
    "for i in range(0,10):\n",
    "    print(i+1)"
   ]
  },
  {
   "cell_type": "code",
   "execution_count": 65,
   "metadata": {},
   "outputs": [
    {
     "name": "stdout",
     "output_type": "stream",
     "text": [
      "1\n",
      "2\n",
      "3\n",
      "4\n",
      "5\n",
      "6\n",
      "7\n",
      "8\n",
      "9\n",
      "10\n"
     ]
    }
   ],
   "source": [
    "# using while loop\n",
    "i=1 \n",
    "while (i<=10):\n",
    "    print(i)\n",
    "    i=i+1"
   ]
  },
  {
   "cell_type": "markdown",
   "metadata": {},
   "source": [
    "#### 13. If you had a function named bacon() inside a module named spam, how would you call it after importing spam?\n",
    "\n"
   ]
  },
  {
   "cell_type": "code",
   "execution_count": 52,
   "metadata": {},
   "outputs": [],
   "source": [
    "# import spam \n",
    "# spam.bacon()"
   ]
  },
  {
   "cell_type": "code",
   "execution_count": null,
   "metadata": {},
   "outputs": [],
   "source": []
  }
 ],
 "metadata": {
  "kernelspec": {
   "display_name": "Python 3",
   "language": "python",
   "name": "python3"
  },
  "language_info": {
   "codemirror_mode": {
    "name": "ipython",
    "version": 3
   },
   "file_extension": ".py",
   "mimetype": "text/x-python",
   "name": "python",
   "nbconvert_exporter": "python",
   "pygments_lexer": "ipython3",
   "version": "3.7.1"
  }
 },
 "nbformat": 4,
 "nbformat_minor": 2
}
